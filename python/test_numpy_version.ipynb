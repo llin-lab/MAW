{
 "cells": [
  {
   "cell_type": "code",
   "execution_count": 192,
   "id": "b626b18c",
   "metadata": {},
   "outputs": [],
   "source": [
    "import numpy as np\n",
    "import mosek\n",
    "from scipy.linalg import sqrtm"
   ]
  },
  {
   "cell_type": "code",
   "execution_count": 168,
   "id": "8cfca114",
   "metadata": {},
   "outputs": [],
   "source": [
    "def ot(cost,p1,p2):\n",
    "    #function ot() performs standard Optimal Transport\n",
    "    \n",
    "    #cost[m1,m2] is the cost distance between any pair of clusters.\n",
    "    # When Wasserstein-2 metric is computed, cost() is the square of the Eulcidean distance between \n",
    "    # two support points across the two distributions. The solution is in res.\n",
    "    # objval is the optimized objective function value. If Wasserstein-2 metric\n",
    "    # is to be solved (using the right cost defintion, see above), sqrt(objval)\n",
    "    # is the Wasserstein-2 metric.\n",
    "    #p1[m1] is the marginal for the first distribution, column vector\n",
    "      #p2[m2] is the marginal for the second distribution, column vector\n",
    "\n",
    "    #  cost=[0.1,0.2,1.0;0.8,0.8,0.1]; p1=[0.4;0.6]; p2=[0.2;0.3;0.5];\n",
    "\n",
    "    \n",
    "    m1 = cost.shape[0] #number of support points in the first distribution\n",
    "    m2 = cost.shape[1] #number of support points in the second distribution\n",
    "\n",
    "    if (np.sum(p1) == 0.0 or np.sum(p2) == 0.0):\n",
    "      print(\"Warning: total probability is zero: %f, %f\\n\" % (np.sum(p1), np.sum(p2)))\n",
    "      return\n",
    "\n",
    "    # Normalization\n",
    "    p1 = p1 / np.sum(p1)\n",
    "    p2 = p2 / np.sum(p2)\n",
    "    \n",
    "    with mosek.Task() as task:\n",
    "    \n",
    "        coststack = np.reshape(cost,m1 * m2, order='F')\n",
    "        c = coststack\n",
    "        blx = np.zeros(m1 * m2)\n",
    "        ulx = np.inf * np.ones(m1 * m2)\n",
    "        bkx = [mosek.boundkey.lo] * (m1 * m2)\n",
    "        a = np.zeros((m1 + m2, m1 * m2))\n",
    "        blc = np.zeros(m1 + m2)\n",
    "        buc = np.zeros(m1 + m2)\n",
    "        bkc = [mosek.boundkey.fx] * (m1 + m2)\n",
    "\n",
    "        # Generate subscript matrix for easy reference\n",
    "        wijsub = np.zeros((m1, m2))\n",
    "        k = 0\n",
    "        for j in range(m2):\n",
    "            for i in range(m1):\n",
    "                wijsub[i,j] = k\n",
    "                k = k + 1\n",
    "\n",
    "        # Set up the constraints\n",
    "        for i in range(m1):\n",
    "            for j in range(m2):\n",
    "                a[i, int(wijsub[i,j])] = 1.0\n",
    "            buc[i] = p1[i]\n",
    "            blc[i] = p1[i]\n",
    "\n",
    "\n",
    "        for j in range(m2):\n",
    "            for i in range(m1):\n",
    "                a[j+m1, int(wijsub[i,j])] = 1.0\n",
    "            buc[j+m1] = p2[j]\n",
    "            blc[j+m1] = p2[j]\n",
    "    \n",
    "        numvar = len(blx)\n",
    "        numcon = len(blc)\n",
    "\n",
    "    \n",
    "        # Append 'numcon' empty constraints.\n",
    "        # The constraints will initially have no bounds.\n",
    "        task.appendcons(numcon)\n",
    "\n",
    "        # Append 'numvar' variables.\n",
    "        # The variables will initially be fixed at zero (x=0).\n",
    "        task.appendvars(numvar)\n",
    "\n",
    "        for j in range(numvar):\n",
    "            # Set the linear term c_j in the objective.\n",
    "            task.putcj(j, c[j])\n",
    "\n",
    "            # Set the bounds on variable j\n",
    "            # blx[j] <= x_j <= bux[j]\n",
    "            task.putvarbound(j, bkx[j], blx[j], ulx[j])\n",
    "        \n",
    "            asub = []\n",
    "            aval = []\n",
    "            for i in range(a.shape[0]):\n",
    "                if a[i, j] != 0:\n",
    "                    asub.append(i)\n",
    "                    aval.append(a[i, j])\n",
    "\n",
    "            # Input column j of A\n",
    "            task.putacol(j,                  # Variable (column) index.\n",
    "                         asub,            # Row index of non-zeros in column j.\n",
    "                         aval)            # Non-zero Values of column j.\n",
    "\n",
    "        for i in range(numcon):\n",
    "            task.putconbound(i, bkc[i], blc[i], buc[i])\n",
    "    \n",
    "        task.putintparam(mosek.iparam.optimizer, mosek.optimizertype.intpnt)\n",
    "        task.putintparam(mosek.iparam.log, 0)\n",
    "    \n",
    "        # Input the objective sense (minimize/maximize)\n",
    "        task.putobjsense(mosek.objsense.minimize)\n",
    "    \n",
    "        # Solve the problem\n",
    "        task.optimize()\n",
    "\n",
    "        # To extract the optimized objective function value\n",
    "        objval = task.getprimalobj(mosek.soltype.itr)\n",
    "\n",
    "        # To extract the matching weights solved\n",
    "        xx = task.getxx(mosek.soltype.itr)\n",
    "        gammaij = np.reshape(np.array(xx)[0:m1*m2], (m1, m2), order='F')\n",
    "       \n",
    "    return({\"objval\": objval, \"gammaij\": gammaij})\n",
    "\n"
   ]
  },
  {
   "cell_type": "code",
   "execution_count": 181,
   "id": "170c5f6d",
   "metadata": {},
   "outputs": [
    {
     "data": {
      "text/plain": [
       "array([[0.1, 0.2, 1. ],\n",
       "       [0.8, 0.8, 0.1]])"
      ]
     },
     "execution_count": 181,
     "metadata": {},
     "output_type": "execute_result"
    }
   ],
   "source": [
    "cost = np.array([[0.1,0.2,1.0], [0.8,0.8,0.1]])\n",
    "cost"
   ]
  },
  {
   "cell_type": "code",
   "execution_count": 182,
   "id": "b696391b",
   "metadata": {},
   "outputs": [],
   "source": [
    "p1 = np.array([0.4,0.6])\n",
    "p2 = np.array([0.2, 0.3, 0.5])"
   ]
  },
  {
   "cell_type": "code",
   "execution_count": 185,
   "id": "df02720a",
   "metadata": {},
   "outputs": [],
   "source": [
    "result = ot(cost, p1, p2)"
   ]
  },
  {
   "cell_type": "code",
   "execution_count": 186,
   "id": "ca459620",
   "metadata": {},
   "outputs": [
    {
     "data": {
      "text/plain": [
       "0.19"
      ]
     },
     "execution_count": 186,
     "metadata": {},
     "output_type": "execute_result"
    }
   ],
   "source": [
    "result[\"objval\"]"
   ]
  },
  {
   "cell_type": "code",
   "execution_count": 187,
   "id": "3f3b09b0",
   "metadata": {},
   "outputs": [
    {
     "data": {
      "text/plain": [
       "array([[0.2, 0.2, 0. ],\n",
       "       [0. , 0.1, 0.5]])"
      ]
     },
     "execution_count": 187,
     "metadata": {},
     "output_type": "execute_result"
    }
   ],
   "source": [
    "result[\"gammaij\"]"
   ]
  },
  {
   "cell_type": "code",
   "execution_count": 213,
   "id": "e0efcdc7",
   "metadata": {},
   "outputs": [],
   "source": [
    "def GaussWasserstein(d, supp1, supp2):\n",
    "    # Compute the pairwise squared Wasserstein distance between each component in supp1 and each component in supp2\n",
    "    # numcomponents in a distribution is size(supp1.2).\n",
    "    #Suppose numcmp1=size(supp1,2), numcmp2=size(supp2,2)\n",
    "    # Squared Wasserstein distance between two Gaussian:\n",
    "    # \\|\\mu_1-\\mu_2\\|^2+trace(\\Sigma_1+\\Sigma_2-2*(\\Sigma_1^{1/2}\\Sigma_2\\Sigma_1^{1/2})^{1/2})\n",
    "    # For commutative case when \\Sigma_1*\\Sigma_2=\\Sigma_2*\\Sigma_1 (true for symmetric matrices)\n",
    "    # The distance is equivalent to\n",
    "    # \\|\\mu_1-\\mu_2\\|^2+\\|Sigma_1^{1/2}-\\Sigma_2^{1/2}\\|_{Frobenius}^2\n",
    "    # Frobenius norm of matrices is the Euclidean (L2) norm of the stacked\n",
    "    # vector converted from the matrix\n",
    "    # We use the commutative case formula to avoid more potential precision\n",
    "    # errors\n",
    "\n",
    "    numcmp1 = supp1.shape[1]\n",
    "    numcmp2 = supp2.shape[1]\n",
    "    pairdist = np.zeros((numcmp1, numcmp2))\n",
    "\n",
    "    for ii in range(numcmp1):\n",
    "        for jj in range(numcmp2):\n",
    "            sigma1 = np.reshape(supp1[d:d+d*d,ii], (d,d), order='F')\n",
    "            sigma2 = np.reshape(supp2[d:d+d*d,jj], (d,d), order='F')\n",
    "\n",
    "            # b1=sqrtm_eig(sigma1); %use eigen value decomposition to solve squre root          \n",
    "            # b2=sqrtm_eig(sigma2);\n",
    "            b1 = sqrtm(sigma1)\n",
    "            b2 = sqrtm(sigma2)\n",
    "\n",
    "            mudif = supp1[0:dim,ii] - supp2[0:dim,jj]\n",
    "            pairdist[ii,jj] = np.sum(mudif * mudif) + np.sum((b1 - b2) * (b1 - b2))\n",
    "\n",
    "    return(pairdist)\n"
   ]
  },
  {
   "cell_type": "code",
   "execution_count": 250,
   "id": "11780dc2",
   "metadata": {},
   "outputs": [],
   "source": [
    "def Mawdist(d, supp1, supp2,w1,w2):\n",
    "    # Compute the MAW distance between two GMM with Gusassian component parameters specified in supp1 and supp2 and prior specified to w1 and w2\n",
    "\n",
    "    pairdist = GaussWasserstein(d, supp1, supp2)\n",
    "    result = ot(pairdist, w1, w2)\n",
    "    return({\"dist\": result[\"objval\"], \"gammaij\": result[\"gammaij\"]})\n"
   ]
  },
  {
   "cell_type": "code",
   "execution_count": 251,
   "id": "e818dba9",
   "metadata": {},
   "outputs": [],
   "source": [
    "import scipy.io\n",
    "mouse = scipy.io.loadmat('/Users/jz259/Desktop/Prelim/MAW/test/mouse_2.mat')"
   ]
  },
  {
   "cell_type": "code",
   "execution_count": 252,
   "id": "ac284e7a",
   "metadata": {},
   "outputs": [],
   "source": [
    "supp = mouse[\"supp\"]\n",
    "stride = mouse[\"stride\"]\n",
    "ww = mouse[\"ww\"][0]"
   ]
  },
  {
   "cell_type": "code",
   "execution_count": 256,
   "id": "e4af594a",
   "metadata": {},
   "outputs": [],
   "source": [
    "final = Mawdist(d = 2, \n",
    "                supp1 = supp[:,0:stride[0]], \n",
    "                supp2 = supp[:,stride[0]:(stride[0]+stride[1])],\n",
    "                w1 = ww[0:stride[0]],\n",
    "                w2 = ww[stride[0]:(stride[0]+stride[1])])"
   ]
  },
  {
   "cell_type": "code",
   "execution_count": 257,
   "id": "63c95031",
   "metadata": {},
   "outputs": [
    {
     "data": {
      "text/plain": [
       "0.735194981136692"
      ]
     },
     "execution_count": 257,
     "metadata": {},
     "output_type": "execute_result"
    }
   ],
   "source": [
    "final[\"dist\"]"
   ]
  },
  {
   "cell_type": "code",
   "execution_count": 258,
   "id": "37349c89",
   "metadata": {},
   "outputs": [
    {
     "data": {
      "text/plain": [
       "array([[6.47204666e-03, 2.03892192e-12, 4.47391747e-02, 1.73672196e-13,\n",
       "        2.04479470e-13, 1.22125031e-13, 1.10222441e-13, 1.12335695e-13,\n",
       "        5.19380750e-03, 5.90498647e-13, 8.52713268e-13, 6.49004465e-13,\n",
       "        8.06878139e-13, 4.96591701e-13, 2.86370811e-13, 3.92808034e-13],\n",
       "       [1.12703812e-12, 5.78225218e-13, 1.10078584e-11, 1.53278710e-13,\n",
       "        1.75277406e-13, 1.05872739e-13, 9.44569580e-14, 9.40233601e-14,\n",
       "        3.39789316e-04, 3.90034209e-13, 5.75391566e-13, 4.22674260e-13,\n",
       "        6.18964893e-13, 4.25105033e-13, 2.36971614e-13, 2.93720394e-13],\n",
       "       [3.53788716e-13, 2.62081385e-13, 4.95752633e-01, 1.50942942e-13,\n",
       "        2.59542909e-13, 1.70993129e-13, 1.69979592e-13, 1.64104484e-13,\n",
       "        2.58864111e-12, 1.71734016e-13, 1.82345503e-13, 1.76251687e-13,\n",
       "        2.45214512e-13, 2.12704666e-13, 1.57644012e-13, 1.74534773e-13],\n",
       "       [3.01149525e-13, 2.72894530e-13, 1.49180162e-12, 3.24110672e-02,\n",
       "        4.09834282e-02, 5.30923806e-13, 2.24290429e-13, 2.78620936e-13,\n",
       "        5.43302697e-13, 3.02282609e-13, 2.17509041e-13, 2.92332680e-13,\n",
       "        5.27370067e-13, 7.81608904e-13, 1.35156899e-12, 8.65047706e-13],\n",
       "       [2.41290255e-13, 2.04374221e-13, 1.48599611e-01, 5.17779801e-13,\n",
       "        4.77986218e-02, 8.85473132e-13, 4.16738091e-13, 5.05500423e-13,\n",
       "        8.81934627e-13, 1.73676699e-13, 1.47268984e-13, 1.68979496e-13,\n",
       "        2.70571419e-13, 3.02641328e-13, 2.90776174e-13, 2.69085512e-13],\n",
       "       [1.65174767e-13, 1.48054582e-13, 1.48748800e-12, 3.60126904e-13,\n",
       "        2.52495705e-02, 1.65445171e-02, 1.14111255e-12, 2.18657071e-12,\n",
       "        4.75104002e-13, 1.24331095e-13, 1.07172520e-13, 1.20558275e-13,\n",
       "        1.80003180e-13, 1.95210498e-13, 1.90821517e-13, 1.77066517e-13],\n",
       "       [1.60961129e-13, 1.38494037e-13, 8.08924945e-12, 2.13522567e-13,\n",
       "        1.93445306e-12, 5.45383721e-12, 2.70750988e-02, 1.46720495e-03,\n",
       "        7.07954004e-13, 1.05124909e-13, 9.64296529e-14, 1.03197385e-13,\n",
       "        1.50695912e-13, 1.52638375e-13, 1.35993242e-13, 1.33165404e-13],\n",
       "       [1.58364580e-13, 1.40406883e-13, 1.95575073e-12, 2.59790667e-13,\n",
       "        3.43664303e-12, 7.56615482e-03, 3.41952978e-12, 2.28773576e-03,\n",
       "        5.33256277e-13, 1.11740706e-13, 9.84479929e-14, 1.07365379e-13,\n",
       "        1.57202889e-13, 1.66094719e-13, 1.55039136e-13, 1.48209828e-13],\n",
       "       [4.32502700e-13, 2.96997420e-13, 3.05810397e-03, 1.39166231e-13,\n",
       "        2.23710049e-13, 1.45392786e-13, 1.47001237e-13, 1.40395865e-13,\n",
       "        4.70937900e-12, 1.82656197e-13, 2.05087593e-13, 1.91521975e-13,\n",
       "        2.59048178e-13, 2.15319997e-13, 1.54579226e-13, 1.75571673e-13],\n",
       "       [2.84691078e-03, 1.18577071e-03, 1.32495798e-12, 2.77507636e-13,\n",
       "        2.27481207e-13, 1.27943245e-13, 1.00188521e-13, 1.08304932e-13,\n",
       "        1.01566012e-12, 1.10671936e-02, 1.83532964e-11, 1.54980202e-03,\n",
       "        1.99348580e-11, 2.36757027e-12, 9.08718996e-13, 2.20862631e-12],\n",
       "       [1.26001405e-02, 9.76262510e-12, 7.49290183e-13, 1.81377964e-13,\n",
       "        1.62976787e-13, 1.00353283e-13, 8.48814348e-14, 8.86951424e-14,\n",
       "        7.57754434e-13, 2.26852819e-12, 9.48616596e-03, 4.22812952e-12,\n",
       "        1.73383743e-12, 7.64963699e-13, 4.13657658e-13, 6.77382533e-13],\n",
       "       [9.97177163e-12, 9.50530190e-12, 8.00917062e-13, 2.50403228e-13,\n",
       "        2.00725201e-13, 1.15262797e-13, 9.16514545e-14, 9.83482651e-14,\n",
       "        7.09330121e-13, 1.73472669e-11, 1.82943348e-11, 1.01936793e-03,\n",
       "        4.70899315e-12, 1.60337853e-12, 7.84160230e-13, 1.72315998e-12],\n",
       "       [1.56303092e-02, 1.47550174e-11, 5.75285199e-12, 3.24302456e-13,\n",
       "        2.87247333e-13, 1.52203361e-13, 1.16801816e-13, 1.27534053e-13,\n",
       "        2.00974332e-12, 4.31090392e-12, 2.45998275e-12, 3.42071561e-12,\n",
       "        1.42972585e-11, 2.74083054e-12, 9.78511418e-13, 2.18249172e-12],\n",
       "       [2.52386273e-12, 1.85086801e-12, 3.10739361e-03, 5.74274962e-13,\n",
       "        4.44154030e-13, 1.91139600e-13, 1.32902474e-13, 1.48664102e-13,\n",
       "        1.95595204e-12, 2.43757347e-12, 1.11373602e-12, 1.97542596e-12,\n",
       "        1.11226613e-02, 1.79841897e-02, 3.48055257e-12, 7.45320502e-04],\n",
       "       [5.93091318e-13, 6.00228456e-13, 9.15966939e-13, 9.86900237e-13,\n",
       "        4.80597356e-13, 2.06905229e-13, 1.29699943e-13, 1.50316134e-13,\n",
       "        5.37396900e-13, 9.96892224e-13, 5.17918809e-13, 8.62261528e-13,\n",
       "        1.74431462e-12, 3.81530423e-12, 5.13833991e-03, 6.38078698e-04],\n",
       "       [1.61023331e-12, 1.07868591e-12, 1.43137326e-12, 4.64906381e-13,\n",
       "        3.58458358e-13, 1.62542004e-13, 1.16365152e-13, 1.26275038e-13,\n",
       "        1.92379082e-12, 1.61001674e-12, 1.14511048e-12, 1.55278148e-12,\n",
       "        3.39789269e-04, 4.90722029e-11, 1.78709394e-12, 7.87320369e-13]])"
      ]
     },
     "execution_count": 258,
     "metadata": {},
     "output_type": "execute_result"
    }
   ],
   "source": [
    "final[\"gammaij\"]"
   ]
  },
  {
   "cell_type": "code",
   "execution_count": 260,
   "id": "57eef1b1",
   "metadata": {},
   "outputs": [],
   "source": [
    "scipy.io.savemat(\"python_result.mat\", final)"
   ]
  },
  {
   "cell_type": "code",
   "execution_count": null,
   "id": "2a877c36",
   "metadata": {},
   "outputs": [],
   "source": []
  }
 ],
 "metadata": {
  "kernelspec": {
   "display_name": "Python 3 (ipykernel)",
   "language": "python",
   "name": "python3"
  },
  "language_info": {
   "codemirror_mode": {
    "name": "ipython",
    "version": 3
   },
   "file_extension": ".py",
   "mimetype": "text/x-python",
   "name": "python",
   "nbconvert_exporter": "python",
   "pygments_lexer": "ipython3",
   "version": "3.8.8"
  }
 },
 "nbformat": 4,
 "nbformat_minor": 5
}
